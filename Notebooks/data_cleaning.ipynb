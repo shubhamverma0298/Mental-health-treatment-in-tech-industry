{
 "cells": [
  {
   "cell_type": "markdown",
   "id": "0448914a",
   "metadata": {},
   "source": [
    "# Imports some basics for checking how the dataset looks "
   ]
  },
  {
   "cell_type": "code",
   "execution_count": 1,
   "id": "6f0f0c7e",
   "metadata": {},
   "outputs": [],
   "source": [
    "import pandas as pd \n",
    "import numpy as np\n",
    "import matplotlib.pyplot as plt\n",
    "import seaborn as sns\n",
    "\n",
    "import warnings\n",
    "warnings.filterwarnings('ignore')"
   ]
  },
  {
   "cell_type": "markdown",
   "id": "d4dc1a94",
   "metadata": {},
   "source": [
    "# Now load the dataset"
   ]
  },
  {
   "cell_type": "code",
   "execution_count": 2,
   "id": "93fd842a",
   "metadata": {},
   "outputs": [],
   "source": [
    "filepath=r'C:\\Users\\HP\\PW skills\\SELF placed\\Machine Learning\\projects\\Mini Hackathon!\\data\\raw\\survey.csv'\n",
    "df = pd.read_csv(filepath)"
   ]
  },
  {
   "cell_type": "markdown",
   "id": "74cae79c",
   "metadata": {},
   "source": [
    "# Head to check first 5 row of dataset"
   ]
  },
  {
   "cell_type": "code",
   "execution_count": 3,
   "id": "21c2ba97",
   "metadata": {},
   "outputs": [
    {
     "data": {
      "text/html": [
       "<div>\n",
       "<style scoped>\n",
       "    .dataframe tbody tr th:only-of-type {\n",
       "        vertical-align: middle;\n",
       "    }\n",
       "\n",
       "    .dataframe tbody tr th {\n",
       "        vertical-align: top;\n",
       "    }\n",
       "\n",
       "    .dataframe thead th {\n",
       "        text-align: right;\n",
       "    }\n",
       "</style>\n",
       "<table border=\"1\" class=\"dataframe\">\n",
       "  <thead>\n",
       "    <tr style=\"text-align: right;\">\n",
       "      <th></th>\n",
       "      <th>Timestamp</th>\n",
       "      <th>Age</th>\n",
       "      <th>Gender</th>\n",
       "      <th>Country</th>\n",
       "      <th>state</th>\n",
       "      <th>self_employed</th>\n",
       "      <th>family_history</th>\n",
       "      <th>treatment</th>\n",
       "      <th>work_interfere</th>\n",
       "      <th>no_employees</th>\n",
       "      <th>...</th>\n",
       "      <th>leave</th>\n",
       "      <th>mental_health_consequence</th>\n",
       "      <th>phys_health_consequence</th>\n",
       "      <th>coworkers</th>\n",
       "      <th>supervisor</th>\n",
       "      <th>mental_health_interview</th>\n",
       "      <th>phys_health_interview</th>\n",
       "      <th>mental_vs_physical</th>\n",
       "      <th>obs_consequence</th>\n",
       "      <th>comments</th>\n",
       "    </tr>\n",
       "  </thead>\n",
       "  <tbody>\n",
       "    <tr>\n",
       "      <th>0</th>\n",
       "      <td>2014-08-27 11:29:31</td>\n",
       "      <td>37</td>\n",
       "      <td>Female</td>\n",
       "      <td>United States</td>\n",
       "      <td>IL</td>\n",
       "      <td>NaN</td>\n",
       "      <td>No</td>\n",
       "      <td>Yes</td>\n",
       "      <td>Often</td>\n",
       "      <td>6-25</td>\n",
       "      <td>...</td>\n",
       "      <td>Somewhat easy</td>\n",
       "      <td>No</td>\n",
       "      <td>No</td>\n",
       "      <td>Some of them</td>\n",
       "      <td>Yes</td>\n",
       "      <td>No</td>\n",
       "      <td>Maybe</td>\n",
       "      <td>Yes</td>\n",
       "      <td>No</td>\n",
       "      <td>NaN</td>\n",
       "    </tr>\n",
       "    <tr>\n",
       "      <th>1</th>\n",
       "      <td>2014-08-27 11:29:37</td>\n",
       "      <td>44</td>\n",
       "      <td>M</td>\n",
       "      <td>United States</td>\n",
       "      <td>IN</td>\n",
       "      <td>NaN</td>\n",
       "      <td>No</td>\n",
       "      <td>No</td>\n",
       "      <td>Rarely</td>\n",
       "      <td>More than 1000</td>\n",
       "      <td>...</td>\n",
       "      <td>Don't know</td>\n",
       "      <td>Maybe</td>\n",
       "      <td>No</td>\n",
       "      <td>No</td>\n",
       "      <td>No</td>\n",
       "      <td>No</td>\n",
       "      <td>No</td>\n",
       "      <td>Don't know</td>\n",
       "      <td>No</td>\n",
       "      <td>NaN</td>\n",
       "    </tr>\n",
       "    <tr>\n",
       "      <th>2</th>\n",
       "      <td>2014-08-27 11:29:44</td>\n",
       "      <td>32</td>\n",
       "      <td>Male</td>\n",
       "      <td>Canada</td>\n",
       "      <td>NaN</td>\n",
       "      <td>NaN</td>\n",
       "      <td>No</td>\n",
       "      <td>No</td>\n",
       "      <td>Rarely</td>\n",
       "      <td>6-25</td>\n",
       "      <td>...</td>\n",
       "      <td>Somewhat difficult</td>\n",
       "      <td>No</td>\n",
       "      <td>No</td>\n",
       "      <td>Yes</td>\n",
       "      <td>Yes</td>\n",
       "      <td>Yes</td>\n",
       "      <td>Yes</td>\n",
       "      <td>No</td>\n",
       "      <td>No</td>\n",
       "      <td>NaN</td>\n",
       "    </tr>\n",
       "    <tr>\n",
       "      <th>3</th>\n",
       "      <td>2014-08-27 11:29:46</td>\n",
       "      <td>31</td>\n",
       "      <td>Male</td>\n",
       "      <td>United Kingdom</td>\n",
       "      <td>NaN</td>\n",
       "      <td>NaN</td>\n",
       "      <td>Yes</td>\n",
       "      <td>Yes</td>\n",
       "      <td>Often</td>\n",
       "      <td>26-100</td>\n",
       "      <td>...</td>\n",
       "      <td>Somewhat difficult</td>\n",
       "      <td>Yes</td>\n",
       "      <td>Yes</td>\n",
       "      <td>Some of them</td>\n",
       "      <td>No</td>\n",
       "      <td>Maybe</td>\n",
       "      <td>Maybe</td>\n",
       "      <td>No</td>\n",
       "      <td>Yes</td>\n",
       "      <td>NaN</td>\n",
       "    </tr>\n",
       "    <tr>\n",
       "      <th>4</th>\n",
       "      <td>2014-08-27 11:30:22</td>\n",
       "      <td>31</td>\n",
       "      <td>Male</td>\n",
       "      <td>United States</td>\n",
       "      <td>TX</td>\n",
       "      <td>NaN</td>\n",
       "      <td>No</td>\n",
       "      <td>No</td>\n",
       "      <td>Never</td>\n",
       "      <td>100-500</td>\n",
       "      <td>...</td>\n",
       "      <td>Don't know</td>\n",
       "      <td>No</td>\n",
       "      <td>No</td>\n",
       "      <td>Some of them</td>\n",
       "      <td>Yes</td>\n",
       "      <td>Yes</td>\n",
       "      <td>Yes</td>\n",
       "      <td>Don't know</td>\n",
       "      <td>No</td>\n",
       "      <td>NaN</td>\n",
       "    </tr>\n",
       "  </tbody>\n",
       "</table>\n",
       "<p>5 rows × 27 columns</p>\n",
       "</div>"
      ],
      "text/plain": [
       "             Timestamp  Age  Gender         Country state self_employed  \\\n",
       "0  2014-08-27 11:29:31   37  Female   United States    IL           NaN   \n",
       "1  2014-08-27 11:29:37   44       M   United States    IN           NaN   \n",
       "2  2014-08-27 11:29:44   32    Male          Canada   NaN           NaN   \n",
       "3  2014-08-27 11:29:46   31    Male  United Kingdom   NaN           NaN   \n",
       "4  2014-08-27 11:30:22   31    Male   United States    TX           NaN   \n",
       "\n",
       "  family_history treatment work_interfere    no_employees  ...  \\\n",
       "0             No       Yes          Often            6-25  ...   \n",
       "1             No        No         Rarely  More than 1000  ...   \n",
       "2             No        No         Rarely            6-25  ...   \n",
       "3            Yes       Yes          Often          26-100  ...   \n",
       "4             No        No          Never         100-500  ...   \n",
       "\n",
       "                leave mental_health_consequence phys_health_consequence  \\\n",
       "0       Somewhat easy                        No                      No   \n",
       "1          Don't know                     Maybe                      No   \n",
       "2  Somewhat difficult                        No                      No   \n",
       "3  Somewhat difficult                       Yes                     Yes   \n",
       "4          Don't know                        No                      No   \n",
       "\n",
       "      coworkers supervisor mental_health_interview phys_health_interview  \\\n",
       "0  Some of them        Yes                      No                 Maybe   \n",
       "1            No         No                      No                    No   \n",
       "2           Yes        Yes                     Yes                   Yes   \n",
       "3  Some of them         No                   Maybe                 Maybe   \n",
       "4  Some of them        Yes                     Yes                   Yes   \n",
       "\n",
       "  mental_vs_physical obs_consequence comments  \n",
       "0                Yes              No      NaN  \n",
       "1         Don't know              No      NaN  \n",
       "2                 No              No      NaN  \n",
       "3                 No             Yes      NaN  \n",
       "4         Don't know              No      NaN  \n",
       "\n",
       "[5 rows x 27 columns]"
      ]
     },
     "execution_count": 3,
     "metadata": {},
     "output_type": "execute_result"
    }
   ],
   "source": [
    "df.head()"
   ]
  },
  {
   "cell_type": "code",
   "execution_count": 4,
   "id": "fa5bf9af",
   "metadata": {},
   "outputs": [
    {
     "data": {
      "text/plain": [
       "(1259, 27)"
      ]
     },
     "execution_count": 4,
     "metadata": {},
     "output_type": "execute_result"
    }
   ],
   "source": [
    "df.shape"
   ]
  },
  {
   "cell_type": "code",
   "execution_count": 5,
   "id": "e6d9500f",
   "metadata": {},
   "outputs": [
    {
     "name": "stdout",
     "output_type": "stream",
     "text": [
      "<class 'pandas.core.frame.DataFrame'>\n",
      "RangeIndex: 1259 entries, 0 to 1258\n",
      "Data columns (total 27 columns):\n",
      " #   Column                     Non-Null Count  Dtype \n",
      "---  ------                     --------------  ----- \n",
      " 0   Timestamp                  1259 non-null   object\n",
      " 1   Age                        1259 non-null   int64 \n",
      " 2   Gender                     1259 non-null   object\n",
      " 3   Country                    1259 non-null   object\n",
      " 4   state                      744 non-null    object\n",
      " 5   self_employed              1241 non-null   object\n",
      " 6   family_history             1259 non-null   object\n",
      " 7   treatment                  1259 non-null   object\n",
      " 8   work_interfere             995 non-null    object\n",
      " 9   no_employees               1259 non-null   object\n",
      " 10  remote_work                1259 non-null   object\n",
      " 11  tech_company               1259 non-null   object\n",
      " 12  benefits                   1259 non-null   object\n",
      " 13  care_options               1259 non-null   object\n",
      " 14  wellness_program           1259 non-null   object\n",
      " 15  seek_help                  1259 non-null   object\n",
      " 16  anonymity                  1259 non-null   object\n",
      " 17  leave                      1259 non-null   object\n",
      " 18  mental_health_consequence  1259 non-null   object\n",
      " 19  phys_health_consequence    1259 non-null   object\n",
      " 20  coworkers                  1259 non-null   object\n",
      " 21  supervisor                 1259 non-null   object\n",
      " 22  mental_health_interview    1259 non-null   object\n",
      " 23  phys_health_interview      1259 non-null   object\n",
      " 24  mental_vs_physical         1259 non-null   object\n",
      " 25  obs_consequence            1259 non-null   object\n",
      " 26  comments                   164 non-null    object\n",
      "dtypes: int64(1), object(26)\n",
      "memory usage: 265.7+ KB\n"
     ]
    }
   ],
   "source": [
    "df.info()"
   ]
  },
  {
   "cell_type": "markdown",
   "id": "8cb7fddd",
   "metadata": {},
   "source": [
    "# info to ckeck data type of each columns"
   ]
  },
  {
   "cell_type": "markdown",
   "id": "66ebd1f9",
   "metadata": {},
   "source": [
    "# By seeing the dataset firstly we have to drop some columns which don't be used in creating the machine learning model"
   ]
  },
  {
   "cell_type": "code",
   "execution_count": 6,
   "id": "1d7948e0",
   "metadata": {},
   "outputs": [],
   "source": [
    "df = df.drop(columns=['Timestamp','comments','state'],axis=1)"
   ]
  },
  {
   "cell_type": "markdown",
   "id": "1f5f7745",
   "metadata": {},
   "source": [
    "# I remove Timestamp as it is classification dataset not the Date and Time dataset\n",
    "# As their is no use of comments in the machine learning model\n",
    "# state as we have the country in which the employ work so their is no use of state "
   ]
  },
  {
   "cell_type": "code",
   "execution_count": 7,
   "id": "933ae1ce",
   "metadata": {},
   "outputs": [
    {
     "data": {
      "text/html": [
       "<div>\n",
       "<style scoped>\n",
       "    .dataframe tbody tr th:only-of-type {\n",
       "        vertical-align: middle;\n",
       "    }\n",
       "\n",
       "    .dataframe tbody tr th {\n",
       "        vertical-align: top;\n",
       "    }\n",
       "\n",
       "    .dataframe thead th {\n",
       "        text-align: right;\n",
       "    }\n",
       "</style>\n",
       "<table border=\"1\" class=\"dataframe\">\n",
       "  <thead>\n",
       "    <tr style=\"text-align: right;\">\n",
       "      <th></th>\n",
       "      <th>Age</th>\n",
       "      <th>Gender</th>\n",
       "      <th>Country</th>\n",
       "      <th>self_employed</th>\n",
       "      <th>family_history</th>\n",
       "      <th>treatment</th>\n",
       "      <th>work_interfere</th>\n",
       "      <th>no_employees</th>\n",
       "      <th>remote_work</th>\n",
       "      <th>tech_company</th>\n",
       "      <th>...</th>\n",
       "      <th>anonymity</th>\n",
       "      <th>leave</th>\n",
       "      <th>mental_health_consequence</th>\n",
       "      <th>phys_health_consequence</th>\n",
       "      <th>coworkers</th>\n",
       "      <th>supervisor</th>\n",
       "      <th>mental_health_interview</th>\n",
       "      <th>phys_health_interview</th>\n",
       "      <th>mental_vs_physical</th>\n",
       "      <th>obs_consequence</th>\n",
       "    </tr>\n",
       "  </thead>\n",
       "  <tbody>\n",
       "    <tr>\n",
       "      <th>0</th>\n",
       "      <td>37</td>\n",
       "      <td>Female</td>\n",
       "      <td>United States</td>\n",
       "      <td>NaN</td>\n",
       "      <td>No</td>\n",
       "      <td>Yes</td>\n",
       "      <td>Often</td>\n",
       "      <td>6-25</td>\n",
       "      <td>No</td>\n",
       "      <td>Yes</td>\n",
       "      <td>...</td>\n",
       "      <td>Yes</td>\n",
       "      <td>Somewhat easy</td>\n",
       "      <td>No</td>\n",
       "      <td>No</td>\n",
       "      <td>Some of them</td>\n",
       "      <td>Yes</td>\n",
       "      <td>No</td>\n",
       "      <td>Maybe</td>\n",
       "      <td>Yes</td>\n",
       "      <td>No</td>\n",
       "    </tr>\n",
       "    <tr>\n",
       "      <th>1</th>\n",
       "      <td>44</td>\n",
       "      <td>M</td>\n",
       "      <td>United States</td>\n",
       "      <td>NaN</td>\n",
       "      <td>No</td>\n",
       "      <td>No</td>\n",
       "      <td>Rarely</td>\n",
       "      <td>More than 1000</td>\n",
       "      <td>No</td>\n",
       "      <td>No</td>\n",
       "      <td>...</td>\n",
       "      <td>Don't know</td>\n",
       "      <td>Don't know</td>\n",
       "      <td>Maybe</td>\n",
       "      <td>No</td>\n",
       "      <td>No</td>\n",
       "      <td>No</td>\n",
       "      <td>No</td>\n",
       "      <td>No</td>\n",
       "      <td>Don't know</td>\n",
       "      <td>No</td>\n",
       "    </tr>\n",
       "    <tr>\n",
       "      <th>2</th>\n",
       "      <td>32</td>\n",
       "      <td>Male</td>\n",
       "      <td>Canada</td>\n",
       "      <td>NaN</td>\n",
       "      <td>No</td>\n",
       "      <td>No</td>\n",
       "      <td>Rarely</td>\n",
       "      <td>6-25</td>\n",
       "      <td>No</td>\n",
       "      <td>Yes</td>\n",
       "      <td>...</td>\n",
       "      <td>Don't know</td>\n",
       "      <td>Somewhat difficult</td>\n",
       "      <td>No</td>\n",
       "      <td>No</td>\n",
       "      <td>Yes</td>\n",
       "      <td>Yes</td>\n",
       "      <td>Yes</td>\n",
       "      <td>Yes</td>\n",
       "      <td>No</td>\n",
       "      <td>No</td>\n",
       "    </tr>\n",
       "    <tr>\n",
       "      <th>3</th>\n",
       "      <td>31</td>\n",
       "      <td>Male</td>\n",
       "      <td>United Kingdom</td>\n",
       "      <td>NaN</td>\n",
       "      <td>Yes</td>\n",
       "      <td>Yes</td>\n",
       "      <td>Often</td>\n",
       "      <td>26-100</td>\n",
       "      <td>No</td>\n",
       "      <td>Yes</td>\n",
       "      <td>...</td>\n",
       "      <td>No</td>\n",
       "      <td>Somewhat difficult</td>\n",
       "      <td>Yes</td>\n",
       "      <td>Yes</td>\n",
       "      <td>Some of them</td>\n",
       "      <td>No</td>\n",
       "      <td>Maybe</td>\n",
       "      <td>Maybe</td>\n",
       "      <td>No</td>\n",
       "      <td>Yes</td>\n",
       "    </tr>\n",
       "    <tr>\n",
       "      <th>4</th>\n",
       "      <td>31</td>\n",
       "      <td>Male</td>\n",
       "      <td>United States</td>\n",
       "      <td>NaN</td>\n",
       "      <td>No</td>\n",
       "      <td>No</td>\n",
       "      <td>Never</td>\n",
       "      <td>100-500</td>\n",
       "      <td>Yes</td>\n",
       "      <td>Yes</td>\n",
       "      <td>...</td>\n",
       "      <td>Don't know</td>\n",
       "      <td>Don't know</td>\n",
       "      <td>No</td>\n",
       "      <td>No</td>\n",
       "      <td>Some of them</td>\n",
       "      <td>Yes</td>\n",
       "      <td>Yes</td>\n",
       "      <td>Yes</td>\n",
       "      <td>Don't know</td>\n",
       "      <td>No</td>\n",
       "    </tr>\n",
       "  </tbody>\n",
       "</table>\n",
       "<p>5 rows × 24 columns</p>\n",
       "</div>"
      ],
      "text/plain": [
       "   Age  Gender         Country self_employed family_history treatment  \\\n",
       "0   37  Female   United States           NaN             No       Yes   \n",
       "1   44       M   United States           NaN             No        No   \n",
       "2   32    Male          Canada           NaN             No        No   \n",
       "3   31    Male  United Kingdom           NaN            Yes       Yes   \n",
       "4   31    Male   United States           NaN             No        No   \n",
       "\n",
       "  work_interfere    no_employees remote_work tech_company  ...   anonymity  \\\n",
       "0          Often            6-25          No          Yes  ...         Yes   \n",
       "1         Rarely  More than 1000          No           No  ...  Don't know   \n",
       "2         Rarely            6-25          No          Yes  ...  Don't know   \n",
       "3          Often          26-100          No          Yes  ...          No   \n",
       "4          Never         100-500         Yes          Yes  ...  Don't know   \n",
       "\n",
       "                leave mental_health_consequence phys_health_consequence  \\\n",
       "0       Somewhat easy                        No                      No   \n",
       "1          Don't know                     Maybe                      No   \n",
       "2  Somewhat difficult                        No                      No   \n",
       "3  Somewhat difficult                       Yes                     Yes   \n",
       "4          Don't know                        No                      No   \n",
       "\n",
       "      coworkers supervisor mental_health_interview phys_health_interview  \\\n",
       "0  Some of them        Yes                      No                 Maybe   \n",
       "1            No         No                      No                    No   \n",
       "2           Yes        Yes                     Yes                   Yes   \n",
       "3  Some of them         No                   Maybe                 Maybe   \n",
       "4  Some of them        Yes                     Yes                   Yes   \n",
       "\n",
       "  mental_vs_physical obs_consequence  \n",
       "0                Yes              No  \n",
       "1         Don't know              No  \n",
       "2                 No              No  \n",
       "3                 No             Yes  \n",
       "4         Don't know              No  \n",
       "\n",
       "[5 rows x 24 columns]"
      ]
     },
     "execution_count": 7,
     "metadata": {},
     "output_type": "execute_result"
    }
   ],
   "source": [
    "df.head()"
   ]
  },
  {
   "cell_type": "markdown",
   "id": "3a835cad",
   "metadata": {},
   "source": [
    "# Now checking missing values in the dataset "
   ]
  },
  {
   "cell_type": "code",
   "execution_count": 8,
   "id": "2cd69ee5",
   "metadata": {},
   "outputs": [
    {
     "data": {
      "text/plain": [
       "Age                            0\n",
       "Gender                         0\n",
       "Country                        0\n",
       "self_employed                 18\n",
       "family_history                 0\n",
       "treatment                      0\n",
       "work_interfere               264\n",
       "no_employees                   0\n",
       "remote_work                    0\n",
       "tech_company                   0\n",
       "benefits                       0\n",
       "care_options                   0\n",
       "wellness_program               0\n",
       "seek_help                      0\n",
       "anonymity                      0\n",
       "leave                          0\n",
       "mental_health_consequence      0\n",
       "phys_health_consequence        0\n",
       "coworkers                      0\n",
       "supervisor                     0\n",
       "mental_health_interview        0\n",
       "phys_health_interview          0\n",
       "mental_vs_physical             0\n",
       "obs_consequence                0\n",
       "dtype: int64"
      ]
     },
     "execution_count": 8,
     "metadata": {},
     "output_type": "execute_result"
    }
   ],
   "source": [
    "df.isnull().sum()"
   ]
  },
  {
   "cell_type": "markdown",
   "id": "fdd47f24",
   "metadata": {},
   "source": [
    "# drop the row which have null values"
   ]
  },
  {
   "cell_type": "code",
   "execution_count": 9,
   "id": "8ed36bdf",
   "metadata": {},
   "outputs": [],
   "source": [
    "df.dropna(inplace=True)"
   ]
  },
  {
   "cell_type": "code",
   "execution_count": 10,
   "id": "01a1d626",
   "metadata": {},
   "outputs": [
    {
     "data": {
      "text/plain": [
       "(977, 24)"
      ]
     },
     "execution_count": 10,
     "metadata": {},
     "output_type": "execute_result"
    }
   ],
   "source": [
    "df.shape"
   ]
  },
  {
   "cell_type": "markdown",
   "id": "38752e2e",
   "metadata": {},
   "source": [
    "# Now converting the object datatype to int datatype as machine only understand 0,1"
   ]
  },
  {
   "cell_type": "code",
   "execution_count": 11,
   "id": "11ddbe6e",
   "metadata": {},
   "outputs": [
    {
     "data": {
      "text/plain": [
       "Gender\n",
       "Male                                              471\n",
       "male                                              156\n",
       "Female                                            103\n",
       "M                                                  85\n",
       "female                                             51\n",
       "F                                                  31\n",
       "m                                                  23\n",
       "f                                                  13\n",
       "Make                                                4\n",
       "Male                                                3\n",
       "Female (trans)                                      2\n",
       "Female                                              2\n",
       "Cis Male                                            2\n",
       "Mal                                                 1\n",
       "Trans woman                                         1\n",
       "Cis Man                                             1\n",
       "femail                                              1\n",
       "Woman                                               1\n",
       "p                                                   1\n",
       "Malr                                                1\n",
       "A little about you                                  1\n",
       "cis male                                            1\n",
       "Mail                                                1\n",
       "Female (cis)                                        1\n",
       "queer                                               1\n",
       "Male-ish                                            1\n",
       "Neuter                                              1\n",
       "msle                                                1\n",
       "Trans-female                                        1\n",
       "queer/she/they                                      1\n",
       "male leaning androgynous                            1\n",
       "Guy (-ish) ^_^                                      1\n",
       "cis-female/femme                                    1\n",
       "Agender                                             1\n",
       "Androgyne                                           1\n",
       "Cis Female                                          1\n",
       "Genderqueer                                         1\n",
       "fluid                                               1\n",
       "Enby                                                1\n",
       "All                                                 1\n",
       "Nah                                                 1\n",
       "woman                                               1\n",
       "non-binary                                          1\n",
       "ostensibly male, unsure what that really means      1\n",
       "Name: count, dtype: int64"
      ]
     },
     "execution_count": 11,
     "metadata": {},
     "output_type": "execute_result"
    }
   ],
   "source": [
    "df['Gender'].value_counts()"
   ]
  },
  {
   "cell_type": "code",
   "execution_count": 12,
   "id": "55877e88",
   "metadata": {},
   "outputs": [
    {
     "data": {
      "text/plain": [
       "array(['male', 'Male', 'Female', 'female', 'M', 'm', 'Male-ish',\n",
       "       'Trans-female', 'Cis Female', 'F', 'Cis Male', 'f', 'Mal',\n",
       "       'queer/she/they', 'non-binary', 'woman', 'Make', 'Nah', 'All',\n",
       "       'Enby', 'fluid', 'Genderqueer', 'Female ', 'Androgyne', 'Agender',\n",
       "       'cis-female/femme', 'Guy (-ish) ^_^', 'male leaning androgynous',\n",
       "       'Male ', 'Trans woman', 'msle', 'Neuter', 'Female (trans)',\n",
       "       'queer', 'Female (cis)', 'Mail', 'cis male', 'A little about you',\n",
       "       'Malr', 'p', 'Woman', 'femail', 'Cis Man',\n",
       "       'ostensibly male, unsure what that really means'], dtype=object)"
      ]
     },
     "execution_count": 12,
     "metadata": {},
     "output_type": "execute_result"
    }
   ],
   "source": [
    "df['Gender'].unique()"
   ]
  },
  {
   "cell_type": "code",
   "execution_count": 13,
   "id": "897a47b2",
   "metadata": {},
   "outputs": [
    {
     "data": {
      "text/plain": [
       "(977, 24)"
      ]
     },
     "execution_count": 13,
     "metadata": {},
     "output_type": "execute_result"
    }
   ],
   "source": [
    "df.shape"
   ]
  },
  {
   "cell_type": "code",
   "execution_count": 14,
   "id": "3bd54d16",
   "metadata": {},
   "outputs": [],
   "source": [
    "df['Gender']= df['Gender'].map({'male':'Male','Male':'Male','M':'Male','Male-ish':'other','Cis Male':'Male','Mal':\"Male\",'non-binary':\"other\",\n",
    "                    'Make':'other',\"Nah\":\"other\",\"Enby\":\"other\",\"fluid\":\"other\",'All':'other','Genderqueer':\"other\",\n",
    "                    'Guy (-ish) ^_^':\"other\",'Androgyne':\"other\",'Agender':\"other\",'cis-female/femme':'other','male leaning androgynous':\"other\",\n",
    "                    'Male ':'Male','Trans woman':'other','msle':'other','Neuter':'other','Female (trans)':'other','queer':'other',\n",
    "                    'Female (cis)':'other','Mail':\"Male\",'cis male':\"other\",'A little about you':\"other\",'Malr':'Male','p':'other',\n",
    "                    'Cis Man':'Male','ostensibly male':\"other\",'unsure what that really means':\"other\",'Female':'Female','female':'Female','m':'Male',\n",
    "                    'Trans-female':'other','Cis Female':'other','F':'Female','f':'Female','queer/she/they':'other','woman':'Female','Female ':'Female',\n",
    "                    'Trans woman':'other','Female (trans)':'other','Female (cis)':'other','Woman':'Female','femail':'Female'\n",
    "                    })"
   ]
  },
  {
   "cell_type": "markdown",
   "id": "3c4b2bc5",
   "metadata": {},
   "source": [
    "by using map function we make 3 category of gender\n",
    "- male \n",
    "- female \n",
    "- other "
   ]
  },
  {
   "cell_type": "code",
   "execution_count": 15,
   "id": "3665de5a",
   "metadata": {},
   "outputs": [
    {
     "data": {
      "text/plain": [
       "Gender\n",
       "Male      744\n",
       "Female    203\n",
       "other      29\n",
       "Name: count, dtype: int64"
      ]
     },
     "execution_count": 15,
     "metadata": {},
     "output_type": "execute_result"
    }
   ],
   "source": [
    "df['Gender'].value_counts()"
   ]
  },
  {
   "cell_type": "code",
   "execution_count": 16,
   "id": "95d2f081",
   "metadata": {},
   "outputs": [],
   "source": [
    "df['Gender']=df['Gender'].fillna('other')"
   ]
  },
  {
   "cell_type": "code",
   "execution_count": 17,
   "id": "b4fce2b0",
   "metadata": {},
   "outputs": [],
   "source": [
    "df['Gender'] = df['Gender'].map({'Male': 0,'Female': 1,'other':2})"
   ]
  },
  {
   "cell_type": "code",
   "execution_count": 18,
   "id": "fdb1458c",
   "metadata": {},
   "outputs": [
    {
     "data": {
      "text/plain": [
       "Gender\n",
       "0    744\n",
       "1    203\n",
       "2     30\n",
       "Name: count, dtype: int64"
      ]
     },
     "execution_count": 18,
     "metadata": {},
     "output_type": "execute_result"
    }
   ],
   "source": [
    "df['Gender'].value_counts()"
   ]
  },
  {
   "cell_type": "markdown",
   "id": "bd180bf8",
   "metadata": {},
   "source": [
    "Now using map function make the \n",
    "Male as 0\n",
    "Female as 1\n",
    "other as 2  "
   ]
  },
  {
   "cell_type": "code",
   "execution_count": 19,
   "id": "2545624a",
   "metadata": {},
   "outputs": [
    {
     "data": {
      "text/plain": [
       "<bound method Series.info of 18      0\n",
       "20      0\n",
       "21      0\n",
       "22      0\n",
       "23      0\n",
       "       ..\n",
       "1252    0\n",
       "1253    0\n",
       "1255    0\n",
       "1256    0\n",
       "1258    0\n",
       "Name: Gender, Length: 977, dtype: int64>"
      ]
     },
     "execution_count": 19,
     "metadata": {},
     "output_type": "execute_result"
    }
   ],
   "source": [
    "df['Gender'].info"
   ]
  },
  {
   "cell_type": "code",
   "execution_count": 20,
   "id": "ad73f693",
   "metadata": {},
   "outputs": [
    {
     "data": {
      "text/plain": [
       "array([         46,          29,          31,          41,          33,\n",
       "                35,          34,          37,          32,          30,\n",
       "                42,          40,          27,          24,          18,\n",
       "                38,          26,          22,          44,          23,\n",
       "                36,          28,          39,          25,          45,\n",
       "                21,          19,          43,          56,          54,\n",
       "               329,          55, 99999999999,          57,          58,\n",
       "                48,          47,          62,          51,          50,\n",
       "                49,          20,       -1726,          53,          61,\n",
       "                 8,          11,          -1,          72,          60],\n",
       "      dtype=int64)"
      ]
     },
     "execution_count": 20,
     "metadata": {},
     "output_type": "execute_result"
    }
   ],
   "source": [
    "df['Age'].unique()"
   ]
  },
  {
   "cell_type": "code",
   "execution_count": 22,
   "id": "c957a664",
   "metadata": {},
   "outputs": [
    {
     "data": {
      "text/plain": [
       "Country\n",
       "United States             596\n",
       "United Kingdom            139\n",
       "Canada                     59\n",
       "Germany                    33\n",
       "Ireland                    23\n",
       "Australia                  20\n",
       "Netherlands                19\n",
       "New Zealand                 8\n",
       "Poland                      7\n",
       "Italy                       6\n",
       "South Africa                5\n",
       "Switzerland                 5\n",
       "Sweden                      5\n",
       "India                       5\n",
       "Singapore                   4\n",
       "Brazil                      4\n",
       "Belgium                     4\n",
       "France                      4\n",
       "Israel                      3\n",
       "Finland                     2\n",
       "Bulgaria                    2\n",
       "Denmark                     2\n",
       "Russia                      2\n",
       "Croatia                     2\n",
       "Mexico                      2\n",
       "Colombia                    2\n",
       "Thailand                    1\n",
       "Moldova                     1\n",
       "Bahamas, The                1\n",
       "China                       1\n",
       "Czech Republic              1\n",
       "Georgia                     1\n",
       "Austria                     1\n",
       "Japan                       1\n",
       "Hungary                     1\n",
       "Bosnia and Herzegovina      1\n",
       "Zimbabwe                    1\n",
       "Portugal                    1\n",
       "Slovenia                    1\n",
       "Philippines                 1\n",
       "Name: count, dtype: int64"
      ]
     },
     "execution_count": 22,
     "metadata": {},
     "output_type": "execute_result"
    }
   ],
   "source": [
    "df['Country'].value_counts()"
   ]
  },
  {
   "cell_type": "code",
   "execution_count": 25,
   "id": "2069f2ac",
   "metadata": {},
   "outputs": [
    {
     "data": {
      "text/plain": [
       "array(['United States', 'United Kingdom', 'Canada', 'Netherlands',\n",
       "       'Poland', 'Australia', 'France', 'Germany', 'Mexico', 'Brazil',\n",
       "       'Slovenia', 'Ireland', 'India', 'South Africa', 'Russia', 'Italy',\n",
       "       'Colombia', 'Portugal', 'Switzerland', 'Belgium', 'Sweden',\n",
       "       'New Zealand', 'Zimbabwe', 'Finland', 'Israel',\n",
       "       'Bosnia and Herzegovina', 'Austria', 'Hungary', 'Singapore',\n",
       "       'Japan', 'Bulgaria', 'Croatia', 'Thailand', 'Denmark',\n",
       "       'Bahamas, The', 'Moldova', 'Georgia', 'China', 'Czech Republic',\n",
       "       'Philippines'], dtype=object)"
      ]
     },
     "execution_count": 25,
     "metadata": {},
     "output_type": "execute_result"
    }
   ],
   "source": [
    "df['Country'].unique()"
   ]
  },
  {
   "cell_type": "code",
   "execution_count": 26,
   "id": "1d79c64e",
   "metadata": {},
   "outputs": [],
   "source": [
    "df['Country'] = df['Country'].map({'United States':1, 'United Kingdom':2, 'Canada':3, 'Netherlands':4,\n",
    "                                    'Poland':5, 'Australia':6, 'France':7, 'Germany':8, 'Mexico':9, 'Brazil':10,\n",
    "                                    'Slovenia':11, 'Ireland':12, 'India':13, 'South Africa':14, 'Russia':15, 'Italy':16,\n",
    "                                    'Colombia':17, 'Portugal':18, 'Switzerland':19, 'Belgium':20, 'Sweden':21,\n",
    "                                    'New Zealand':22, 'Zimbabwe':23, 'Finland':24, 'Israel':25,\n",
    "                                    'Bosnia and Herzegovina':26, 'Austria':27, 'Hungary':28, 'Singapore':29,\n",
    "                                    'Japan':30, 'Bulgaria':31, 'Croatia':32, 'Thailand':33, 'Denmark':34,\n",
    "                                    'Bahamas, The':35, 'Moldova':36, 'Georgia':37, 'China':38, 'Czech Republic':39,\n",
    "                                    'Philippines':40})"
   ]
  },
  {
   "cell_type": "code",
   "execution_count": 27,
   "id": "245febad",
   "metadata": {},
   "outputs": [
    {
     "data": {
      "text/html": [
       "<div>\n",
       "<style scoped>\n",
       "    .dataframe tbody tr th:only-of-type {\n",
       "        vertical-align: middle;\n",
       "    }\n",
       "\n",
       "    .dataframe tbody tr th {\n",
       "        vertical-align: top;\n",
       "    }\n",
       "\n",
       "    .dataframe thead th {\n",
       "        text-align: right;\n",
       "    }\n",
       "</style>\n",
       "<table border=\"1\" class=\"dataframe\">\n",
       "  <thead>\n",
       "    <tr style=\"text-align: right;\">\n",
       "      <th></th>\n",
       "      <th>Age</th>\n",
       "      <th>Gender</th>\n",
       "      <th>Country</th>\n",
       "      <th>self_employed</th>\n",
       "      <th>family_history</th>\n",
       "      <th>treatment</th>\n",
       "      <th>work_interfere</th>\n",
       "      <th>no_employees</th>\n",
       "      <th>remote_work</th>\n",
       "      <th>tech_company</th>\n",
       "      <th>...</th>\n",
       "      <th>anonymity</th>\n",
       "      <th>leave</th>\n",
       "      <th>mental_health_consequence</th>\n",
       "      <th>phys_health_consequence</th>\n",
       "      <th>coworkers</th>\n",
       "      <th>supervisor</th>\n",
       "      <th>mental_health_interview</th>\n",
       "      <th>phys_health_interview</th>\n",
       "      <th>mental_vs_physical</th>\n",
       "      <th>obs_consequence</th>\n",
       "    </tr>\n",
       "  </thead>\n",
       "  <tbody>\n",
       "    <tr>\n",
       "      <th>18</th>\n",
       "      <td>46</td>\n",
       "      <td>0</td>\n",
       "      <td>1</td>\n",
       "      <td>Yes</td>\n",
       "      <td>Yes</td>\n",
       "      <td>No</td>\n",
       "      <td>Sometimes</td>\n",
       "      <td>1-5</td>\n",
       "      <td>Yes</td>\n",
       "      <td>Yes</td>\n",
       "      <td>...</td>\n",
       "      <td>Yes</td>\n",
       "      <td>Very easy</td>\n",
       "      <td>No</td>\n",
       "      <td>No</td>\n",
       "      <td>Yes</td>\n",
       "      <td>Yes</td>\n",
       "      <td>No</td>\n",
       "      <td>Yes</td>\n",
       "      <td>Yes</td>\n",
       "      <td>Yes</td>\n",
       "    </tr>\n",
       "    <tr>\n",
       "      <th>20</th>\n",
       "      <td>29</td>\n",
       "      <td>0</td>\n",
       "      <td>1</td>\n",
       "      <td>No</td>\n",
       "      <td>Yes</td>\n",
       "      <td>Yes</td>\n",
       "      <td>Sometimes</td>\n",
       "      <td>100-500</td>\n",
       "      <td>No</td>\n",
       "      <td>Yes</td>\n",
       "      <td>...</td>\n",
       "      <td>No</td>\n",
       "      <td>Somewhat difficult</td>\n",
       "      <td>Maybe</td>\n",
       "      <td>No</td>\n",
       "      <td>Some of them</td>\n",
       "      <td>Some of them</td>\n",
       "      <td>No</td>\n",
       "      <td>No</td>\n",
       "      <td>No</td>\n",
       "      <td>No</td>\n",
       "    </tr>\n",
       "    <tr>\n",
       "      <th>21</th>\n",
       "      <td>31</td>\n",
       "      <td>0</td>\n",
       "      <td>1</td>\n",
       "      <td>Yes</td>\n",
       "      <td>No</td>\n",
       "      <td>No</td>\n",
       "      <td>Never</td>\n",
       "      <td>1-5</td>\n",
       "      <td>Yes</td>\n",
       "      <td>Yes</td>\n",
       "      <td>...</td>\n",
       "      <td>Yes</td>\n",
       "      <td>Somewhat difficult</td>\n",
       "      <td>No</td>\n",
       "      <td>No</td>\n",
       "      <td>Some of them</td>\n",
       "      <td>Some of them</td>\n",
       "      <td>No</td>\n",
       "      <td>Maybe</td>\n",
       "      <td>Yes</td>\n",
       "      <td>No</td>\n",
       "    </tr>\n",
       "    <tr>\n",
       "      <th>22</th>\n",
       "      <td>46</td>\n",
       "      <td>0</td>\n",
       "      <td>1</td>\n",
       "      <td>No</td>\n",
       "      <td>No</td>\n",
       "      <td>Yes</td>\n",
       "      <td>Often</td>\n",
       "      <td>26-100</td>\n",
       "      <td>Yes</td>\n",
       "      <td>Yes</td>\n",
       "      <td>...</td>\n",
       "      <td>Don't know</td>\n",
       "      <td>Don't know</td>\n",
       "      <td>Maybe</td>\n",
       "      <td>No</td>\n",
       "      <td>Some of them</td>\n",
       "      <td>Yes</td>\n",
       "      <td>No</td>\n",
       "      <td>Maybe</td>\n",
       "      <td>No</td>\n",
       "      <td>No</td>\n",
       "    </tr>\n",
       "    <tr>\n",
       "      <th>23</th>\n",
       "      <td>41</td>\n",
       "      <td>0</td>\n",
       "      <td>1</td>\n",
       "      <td>No</td>\n",
       "      <td>No</td>\n",
       "      <td>Yes</td>\n",
       "      <td>Never</td>\n",
       "      <td>More than 1000</td>\n",
       "      <td>No</td>\n",
       "      <td>No</td>\n",
       "      <td>...</td>\n",
       "      <td>Don't know</td>\n",
       "      <td>Don't know</td>\n",
       "      <td>Maybe</td>\n",
       "      <td>No</td>\n",
       "      <td>No</td>\n",
       "      <td>No</td>\n",
       "      <td>No</td>\n",
       "      <td>Yes</td>\n",
       "      <td>Don't know</td>\n",
       "      <td>No</td>\n",
       "    </tr>\n",
       "  </tbody>\n",
       "</table>\n",
       "<p>5 rows × 24 columns</p>\n",
       "</div>"
      ],
      "text/plain": [
       "    Age  Gender  Country self_employed family_history treatment  \\\n",
       "18   46       0        1           Yes            Yes        No   \n",
       "20   29       0        1            No            Yes       Yes   \n",
       "21   31       0        1           Yes             No        No   \n",
       "22   46       0        1            No             No       Yes   \n",
       "23   41       0        1            No             No       Yes   \n",
       "\n",
       "   work_interfere    no_employees remote_work tech_company  ...   anonymity  \\\n",
       "18      Sometimes             1-5         Yes          Yes  ...         Yes   \n",
       "20      Sometimes         100-500          No          Yes  ...          No   \n",
       "21          Never             1-5         Yes          Yes  ...         Yes   \n",
       "22          Often          26-100         Yes          Yes  ...  Don't know   \n",
       "23          Never  More than 1000          No           No  ...  Don't know   \n",
       "\n",
       "                 leave mental_health_consequence phys_health_consequence  \\\n",
       "18           Very easy                        No                      No   \n",
       "20  Somewhat difficult                     Maybe                      No   \n",
       "21  Somewhat difficult                        No                      No   \n",
       "22          Don't know                     Maybe                      No   \n",
       "23          Don't know                     Maybe                      No   \n",
       "\n",
       "       coworkers    supervisor mental_health_interview phys_health_interview  \\\n",
       "18           Yes           Yes                      No                   Yes   \n",
       "20  Some of them  Some of them                      No                    No   \n",
       "21  Some of them  Some of them                      No                 Maybe   \n",
       "22  Some of them           Yes                      No                 Maybe   \n",
       "23            No            No                      No                   Yes   \n",
       "\n",
       "   mental_vs_physical obs_consequence  \n",
       "18                Yes             Yes  \n",
       "20                 No              No  \n",
       "21                Yes              No  \n",
       "22                 No              No  \n",
       "23         Don't know              No  \n",
       "\n",
       "[5 rows x 24 columns]"
      ]
     },
     "execution_count": 27,
     "metadata": {},
     "output_type": "execute_result"
    }
   ],
   "source": [
    "df.head()"
   ]
  },
  {
   "cell_type": "code",
   "execution_count": 28,
   "id": "5ff00e3c",
   "metadata": {},
   "outputs": [
    {
     "data": {
      "text/plain": [
       "array(['Yes', 'No'], dtype=object)"
      ]
     },
     "execution_count": 28,
     "metadata": {},
     "output_type": "execute_result"
    }
   ],
   "source": [
    "df['self_employed'].unique()"
   ]
  },
  {
   "cell_type": "code",
   "execution_count": 29,
   "id": "b203cab2",
   "metadata": {},
   "outputs": [],
   "source": [
    "df['self_employed']= df['self_employed'].map({'Yes':1,'No':0})"
   ]
  },
  {
   "cell_type": "code",
   "execution_count": 30,
   "id": "add3c38d",
   "metadata": {},
   "outputs": [
    {
     "data": {
      "text/plain": [
       "array(['Yes', 'No'], dtype=object)"
      ]
     },
     "execution_count": 30,
     "metadata": {},
     "output_type": "execute_result"
    }
   ],
   "source": [
    "df['family_history'].unique()"
   ]
  },
  {
   "cell_type": "code",
   "execution_count": 31,
   "id": "2b08b053",
   "metadata": {},
   "outputs": [],
   "source": [
    "\n",
    "df['family_history']= df['family_history'].map({'Yes':1,'No':0})"
   ]
  },
  {
   "cell_type": "code",
   "execution_count": 32,
   "id": "679d1ae4",
   "metadata": {},
   "outputs": [
    {
     "data": {
      "text/plain": [
       "array(['No', 'Yes'], dtype=object)"
      ]
     },
     "execution_count": 32,
     "metadata": {},
     "output_type": "execute_result"
    }
   ],
   "source": [
    "df['treatment'].unique()"
   ]
  },
  {
   "cell_type": "code",
   "execution_count": 33,
   "id": "d2b07a0d",
   "metadata": {},
   "outputs": [],
   "source": [
    "df['treatment']= df['treatment'].map({'Yes':1,'No':0})"
   ]
  },
  {
   "cell_type": "code",
   "execution_count": 34,
   "id": "254d41b3",
   "metadata": {},
   "outputs": [
    {
     "data": {
      "text/plain": [
       "array(['Sometimes', 'Never', 'Often', 'Rarely'], dtype=object)"
      ]
     },
     "execution_count": 34,
     "metadata": {},
     "output_type": "execute_result"
    }
   ],
   "source": [
    "df['work_interfere'].unique()"
   ]
  },
  {
   "cell_type": "code",
   "execution_count": 35,
   "id": "69fe467a",
   "metadata": {},
   "outputs": [],
   "source": [
    "df['work_interfere']= df['work_interfere'].map({'Rarely':'Rarely','Sometimes':'Rarely','Often':'Rarely','Never':'Never'})"
   ]
  },
  {
   "cell_type": "markdown",
   "id": "cb7b8b27",
   "metadata": {},
   "source": [
    "as sometimes , rarely ,often all means same "
   ]
  },
  {
   "cell_type": "code",
   "execution_count": 36,
   "id": "8c1162d1",
   "metadata": {},
   "outputs": [
    {
     "data": {
      "text/plain": [
       "array(['Rarely', 'Never'], dtype=object)"
      ]
     },
     "execution_count": 36,
     "metadata": {},
     "output_type": "execute_result"
    }
   ],
   "source": [
    "df['work_interfere'].unique()"
   ]
  },
  {
   "cell_type": "code",
   "execution_count": 37,
   "id": "32b88698",
   "metadata": {},
   "outputs": [],
   "source": [
    "df['work_interfere'] = df['work_interfere'].map({'Rarely':1,'Never':0})"
   ]
  },
  {
   "cell_type": "code",
   "execution_count": 38,
   "id": "98472889",
   "metadata": {},
   "outputs": [
    {
     "data": {
      "text/plain": [
       "work_interfere\n",
       "1    770\n",
       "0    207\n",
       "Name: count, dtype: int64"
      ]
     },
     "execution_count": 38,
     "metadata": {},
     "output_type": "execute_result"
    }
   ],
   "source": [
    "df['work_interfere'].value_counts()"
   ]
  },
  {
   "cell_type": "code",
   "execution_count": 39,
   "id": "5bde3e7d",
   "metadata": {},
   "outputs": [
    {
     "data": {
      "text/plain": [
       "array(['1-5', '100-500', '26-100', 'More than 1000', '6-25', '500-1000'],\n",
       "      dtype=object)"
      ]
     },
     "execution_count": 39,
     "metadata": {},
     "output_type": "execute_result"
    }
   ],
   "source": [
    "df['no_employees'].unique()"
   ]
  },
  {
   "cell_type": "code",
   "execution_count": 40,
   "id": "5eb96db9",
   "metadata": {},
   "outputs": [],
   "source": [
    "df['no_employees'] = df['no_employees'].str.replace('More than 1000','1000+',regex=True)"
   ]
  },
  {
   "cell_type": "code",
   "execution_count": 41,
   "id": "5f1bd797",
   "metadata": {},
   "outputs": [
    {
     "data": {
      "text/plain": [
       "array(['1-5', '100-500', '26-100', '1000+', '6-25', '500-1000'],\n",
       "      dtype=object)"
      ]
     },
     "execution_count": 41,
     "metadata": {},
     "output_type": "execute_result"
    }
   ],
   "source": [
    "df['no_employees'].unique()"
   ]
  },
  {
   "cell_type": "code",
   "execution_count": 42,
   "id": "29d79a87",
   "metadata": {},
   "outputs": [],
   "source": [
    "df['no_employees'] = df['no_employees'].map({'1-5':0,'100-500':3,'26-100':2,\"1000+\":5,'6-25':1,'500-1000':4})"
   ]
  },
  {
   "cell_type": "code",
   "execution_count": 43,
   "id": "420cbab6",
   "metadata": {},
   "outputs": [
    {
     "data": {
      "text/plain": [
       "no_employees\n",
       "2    224\n",
       "5    220\n",
       "1    213\n",
       "0    140\n",
       "3    137\n",
       "4     43\n",
       "Name: count, dtype: int64"
      ]
     },
     "execution_count": 43,
     "metadata": {},
     "output_type": "execute_result"
    }
   ],
   "source": [
    "df['no_employees'].value_counts()"
   ]
  },
  {
   "cell_type": "code",
   "execution_count": 44,
   "id": "987bcb0a",
   "metadata": {},
   "outputs": [
    {
     "name": "stdout",
     "output_type": "stream",
     "text": [
      "<class 'pandas.core.frame.DataFrame'>\n",
      "Index: 977 entries, 18 to 1258\n",
      "Data columns (total 24 columns):\n",
      " #   Column                     Non-Null Count  Dtype \n",
      "---  ------                     --------------  ----- \n",
      " 0   Age                        977 non-null    int64 \n",
      " 1   Gender                     977 non-null    int64 \n",
      " 2   Country                    977 non-null    int64 \n",
      " 3   self_employed              977 non-null    int64 \n",
      " 4   family_history             977 non-null    int64 \n",
      " 5   treatment                  977 non-null    int64 \n",
      " 6   work_interfere             977 non-null    int64 \n",
      " 7   no_employees               977 non-null    int64 \n",
      " 8   remote_work                977 non-null    object\n",
      " 9   tech_company               977 non-null    object\n",
      " 10  benefits                   977 non-null    object\n",
      " 11  care_options               977 non-null    object\n",
      " 12  wellness_program           977 non-null    object\n",
      " 13  seek_help                  977 non-null    object\n",
      " 14  anonymity                  977 non-null    object\n",
      " 15  leave                      977 non-null    object\n",
      " 16  mental_health_consequence  977 non-null    object\n",
      " 17  phys_health_consequence    977 non-null    object\n",
      " 18  coworkers                  977 non-null    object\n",
      " 19  supervisor                 977 non-null    object\n",
      " 20  mental_health_interview    977 non-null    object\n",
      " 21  phys_health_interview      977 non-null    object\n",
      " 22  mental_vs_physical         977 non-null    object\n",
      " 23  obs_consequence            977 non-null    object\n",
      "dtypes: int64(8), object(16)\n",
      "memory usage: 190.8+ KB\n"
     ]
    }
   ],
   "source": [
    "df.info()"
   ]
  },
  {
   "cell_type": "code",
   "execution_count": 45,
   "id": "0cf02444",
   "metadata": {},
   "outputs": [
    {
     "data": {
      "text/plain": [
       "array(['Yes', 'No'], dtype=object)"
      ]
     },
     "execution_count": 45,
     "metadata": {},
     "output_type": "execute_result"
    }
   ],
   "source": [
    "df['remote_work'].unique()"
   ]
  },
  {
   "cell_type": "code",
   "execution_count": 46,
   "id": "699b0f2a",
   "metadata": {},
   "outputs": [],
   "source": [
    "df['remote_work'] = df['remote_work'].map({'Yes':1,'No':0})"
   ]
  },
  {
   "cell_type": "code",
   "execution_count": 47,
   "id": "1cab5960",
   "metadata": {},
   "outputs": [
    {
     "data": {
      "text/plain": [
       "remote_work\n",
       "0    679\n",
       "1    298\n",
       "Name: count, dtype: int64"
      ]
     },
     "execution_count": 47,
     "metadata": {},
     "output_type": "execute_result"
    }
   ],
   "source": [
    "df['remote_work'].value_counts()"
   ]
  },
  {
   "cell_type": "code",
   "execution_count": 48,
   "id": "cec626df",
   "metadata": {},
   "outputs": [
    {
     "data": {
      "text/plain": [
       "array(['Yes', 'No'], dtype=object)"
      ]
     },
     "execution_count": 48,
     "metadata": {},
     "output_type": "execute_result"
    }
   ],
   "source": [
    "df['tech_company'].unique()"
   ]
  },
  {
   "cell_type": "code",
   "execution_count": 49,
   "id": "995f0e4a",
   "metadata": {},
   "outputs": [],
   "source": [
    "df['tech_company'] = df['tech_company'].map({'Yes':1,'No':0})"
   ]
  },
  {
   "cell_type": "code",
   "execution_count": 50,
   "id": "81f6af3e",
   "metadata": {},
   "outputs": [
    {
     "data": {
      "text/plain": [
       "array(['Yes', 'No', \"Don't know\"], dtype=object)"
      ]
     },
     "execution_count": 50,
     "metadata": {},
     "output_type": "execute_result"
    }
   ],
   "source": [
    "df['benefits'].unique()"
   ]
  },
  {
   "cell_type": "code",
   "execution_count": 51,
   "id": "806d0a4c",
   "metadata": {},
   "outputs": [],
   "source": [
    "df['benefits'] = df['benefits'].map({'Yes':1,'No':0,\"Don't know\":0})"
   ]
  },
  {
   "cell_type": "code",
   "execution_count": 52,
   "id": "6c412fa1",
   "metadata": {},
   "outputs": [
    {
     "data": {
      "text/plain": [
       "array(['Not sure', 'Yes', 'No'], dtype=object)"
      ]
     },
     "execution_count": 52,
     "metadata": {},
     "output_type": "execute_result"
    }
   ],
   "source": [
    "df['care_options'].unique()"
   ]
  },
  {
   "cell_type": "code",
   "execution_count": 53,
   "id": "97915ce2",
   "metadata": {},
   "outputs": [],
   "source": [
    "df['care_options'] = df['care_options'].map({'Not sure':0,'No':0,'Yes':1})"
   ]
  },
  {
   "cell_type": "code",
   "execution_count": 54,
   "id": "b4a502bb",
   "metadata": {},
   "outputs": [
    {
     "data": {
      "text/plain": [
       "array(['Yes', 'No', \"Don't know\"], dtype=object)"
      ]
     },
     "execution_count": 54,
     "metadata": {},
     "output_type": "execute_result"
    }
   ],
   "source": [
    "df['wellness_program'].unique()\n"
   ]
  },
  {
   "cell_type": "code",
   "execution_count": 55,
   "id": "452108ec",
   "metadata": {},
   "outputs": [],
   "source": [
    "df['wellness_program'] = df['wellness_program'].map({'No':0,'Yes':1,\"Don't know\":0})"
   ]
  },
  {
   "cell_type": "code",
   "execution_count": 56,
   "id": "0c62746c",
   "metadata": {},
   "outputs": [
    {
     "data": {
      "text/plain": [
       "array([\"Don't know\", 'No', 'Yes'], dtype=object)"
      ]
     },
     "execution_count": 56,
     "metadata": {},
     "output_type": "execute_result"
    }
   ],
   "source": [
    "df['seek_help'].unique()"
   ]
  },
  {
   "cell_type": "code",
   "execution_count": 57,
   "id": "f1876495",
   "metadata": {},
   "outputs": [],
   "source": [
    "df['seek_help'] = df['seek_help'].map({'No':0,'Yes':1,\"Don't know\":0})"
   ]
  },
  {
   "cell_type": "code",
   "execution_count": 58,
   "id": "6898757e",
   "metadata": {},
   "outputs": [
    {
     "data": {
      "text/plain": [
       "array(['Yes', 'Some of them', 'No'], dtype=object)"
      ]
     },
     "execution_count": 58,
     "metadata": {},
     "output_type": "execute_result"
    }
   ],
   "source": [
    "df['supervisor'].unique()"
   ]
  },
  {
   "cell_type": "code",
   "execution_count": 59,
   "id": "ca0da0ef",
   "metadata": {},
   "outputs": [],
   "source": [
    "df['supervisor'] = df['supervisor'].map({'No':0,'Yes':1,\"Some of them\":0})"
   ]
  },
  {
   "cell_type": "code",
   "execution_count": 60,
   "id": "38c5c4a8",
   "metadata": {},
   "outputs": [
    {
     "name": "stdout",
     "output_type": "stream",
     "text": [
      "<class 'pandas.core.frame.DataFrame'>\n",
      "Index: 977 entries, 18 to 1258\n",
      "Data columns (total 24 columns):\n",
      " #   Column                     Non-Null Count  Dtype \n",
      "---  ------                     --------------  ----- \n",
      " 0   Age                        977 non-null    int64 \n",
      " 1   Gender                     977 non-null    int64 \n",
      " 2   Country                    977 non-null    int64 \n",
      " 3   self_employed              977 non-null    int64 \n",
      " 4   family_history             977 non-null    int64 \n",
      " 5   treatment                  977 non-null    int64 \n",
      " 6   work_interfere             977 non-null    int64 \n",
      " 7   no_employees               977 non-null    int64 \n",
      " 8   remote_work                977 non-null    int64 \n",
      " 9   tech_company               977 non-null    int64 \n",
      " 10  benefits                   977 non-null    int64 \n",
      " 11  care_options               977 non-null    int64 \n",
      " 12  wellness_program           977 non-null    int64 \n",
      " 13  seek_help                  977 non-null    int64 \n",
      " 14  anonymity                  977 non-null    object\n",
      " 15  leave                      977 non-null    object\n",
      " 16  mental_health_consequence  977 non-null    object\n",
      " 17  phys_health_consequence    977 non-null    object\n",
      " 18  coworkers                  977 non-null    object\n",
      " 19  supervisor                 977 non-null    int64 \n",
      " 20  mental_health_interview    977 non-null    object\n",
      " 21  phys_health_interview      977 non-null    object\n",
      " 22  mental_vs_physical         977 non-null    object\n",
      " 23  obs_consequence            977 non-null    object\n",
      "dtypes: int64(15), object(9)\n",
      "memory usage: 190.8+ KB\n"
     ]
    }
   ],
   "source": [
    "df.info()"
   ]
  },
  {
   "cell_type": "code",
   "execution_count": 61,
   "id": "4a6df27a",
   "metadata": {},
   "outputs": [
    {
     "data": {
      "text/plain": [
       "array(['Yes', 'No', \"Don't know\"], dtype=object)"
      ]
     },
     "execution_count": 61,
     "metadata": {},
     "output_type": "execute_result"
    }
   ],
   "source": [
    "df['anonymity'].unique()"
   ]
  },
  {
   "cell_type": "code",
   "execution_count": 62,
   "id": "656f7b38",
   "metadata": {},
   "outputs": [],
   "source": [
    "df['anonymity'] = df['anonymity'].map({'No':0,'Yes':1,\"Don't know\":0})"
   ]
  },
  {
   "cell_type": "code",
   "execution_count": 63,
   "id": "63bcda1c",
   "metadata": {},
   "outputs": [
    {
     "data": {
      "text/plain": [
       "array(['Very easy', 'Somewhat difficult', \"Don't know\", 'Very difficult',\n",
       "       'Somewhat easy'], dtype=object)"
      ]
     },
     "execution_count": 63,
     "metadata": {},
     "output_type": "execute_result"
    }
   ],
   "source": [
    "df['leave'].unique()"
   ]
  },
  {
   "cell_type": "code",
   "execution_count": 64,
   "id": "7a4b2853",
   "metadata": {},
   "outputs": [],
   "source": [
    "df['leave']= df['leave'].map({'Very easy':'easy','Somewhat difficult':'difficult','Somewhat easy':'easy','Very difficult':'difficult',\"Don't know\":'difficult'})"
   ]
  },
  {
   "cell_type": "code",
   "execution_count": 65,
   "id": "a070497a",
   "metadata": {},
   "outputs": [
    {
     "data": {
      "text/plain": [
       "array(['easy', 'difficult'], dtype=object)"
      ]
     },
     "execution_count": 65,
     "metadata": {},
     "output_type": "execute_result"
    }
   ],
   "source": [
    "df['leave'].unique()"
   ]
  },
  {
   "cell_type": "code",
   "execution_count": 66,
   "id": "72f25f69",
   "metadata": {},
   "outputs": [],
   "source": [
    "df['leave'] = df['leave'].map({'easy':1,'difficult':0})"
   ]
  },
  {
   "cell_type": "code",
   "execution_count": 67,
   "id": "695e8c10",
   "metadata": {},
   "outputs": [
    {
     "data": {
      "text/plain": [
       "leave\n",
       "0    611\n",
       "1    366\n",
       "Name: count, dtype: int64"
      ]
     },
     "execution_count": 67,
     "metadata": {},
     "output_type": "execute_result"
    }
   ],
   "source": [
    "df['leave'].value_counts()"
   ]
  },
  {
   "cell_type": "code",
   "execution_count": 68,
   "id": "2cf4c18d",
   "metadata": {},
   "outputs": [
    {
     "data": {
      "text/plain": [
       "array(['No', 'Maybe', 'Yes'], dtype=object)"
      ]
     },
     "execution_count": 68,
     "metadata": {},
     "output_type": "execute_result"
    }
   ],
   "source": [
    "df['mental_health_consequence'].unique()"
   ]
  },
  {
   "cell_type": "code",
   "execution_count": 69,
   "id": "d05566c0",
   "metadata": {},
   "outputs": [],
   "source": [
    "df['mental_health_consequence'] = df['mental_health_consequence'].map({'No':0,'Yes':1,\"Maybe\":0})"
   ]
  },
  {
   "cell_type": "code",
   "execution_count": 70,
   "id": "2f472a7b",
   "metadata": {},
   "outputs": [
    {
     "data": {
      "text/plain": [
       "array(['No', 'Maybe', 'Yes'], dtype=object)"
      ]
     },
     "execution_count": 70,
     "metadata": {},
     "output_type": "execute_result"
    }
   ],
   "source": [
    "df['mental_health_interview'].unique()"
   ]
  },
  {
   "cell_type": "code",
   "execution_count": 71,
   "id": "9cff6065",
   "metadata": {},
   "outputs": [],
   "source": [
    "df['mental_health_interview'] = df['mental_health_interview'].map({'No':0,'Yes':1,\"Maybe\":0})"
   ]
  },
  {
   "cell_type": "code",
   "execution_count": 72,
   "id": "27c27c62",
   "metadata": {},
   "outputs": [
    {
     "data": {
      "text/plain": [
       "array(['Yes', 'No', \"Don't know\"], dtype=object)"
      ]
     },
     "execution_count": 72,
     "metadata": {},
     "output_type": "execute_result"
    }
   ],
   "source": [
    "df['mental_vs_physical'].unique()"
   ]
  },
  {
   "cell_type": "code",
   "execution_count": 73,
   "id": "e40cc527",
   "metadata": {},
   "outputs": [],
   "source": [
    "df['mental_vs_physical'] = df['mental_vs_physical'].map({'No':0,'Yes':1,\"Don't know\":0})"
   ]
  },
  {
   "cell_type": "code",
   "execution_count": 74,
   "id": "e0aee2ad",
   "metadata": {},
   "outputs": [
    {
     "data": {
      "text/plain": [
       "array(['No', 'Maybe', 'Yes'], dtype=object)"
      ]
     },
     "execution_count": 74,
     "metadata": {},
     "output_type": "execute_result"
    }
   ],
   "source": [
    "df['phys_health_consequence'].unique()"
   ]
  },
  {
   "cell_type": "code",
   "execution_count": 75,
   "id": "d79ab3fc",
   "metadata": {},
   "outputs": [],
   "source": [
    "df['phys_health_consequence'] = df['phys_health_consequence'].map({'No':0,'Yes':1,\"Maybe\":0})"
   ]
  },
  {
   "cell_type": "code",
   "execution_count": 76,
   "id": "431c9584",
   "metadata": {},
   "outputs": [
    {
     "data": {
      "text/plain": [
       "phys_health_consequence\n",
       "0    921\n",
       "1     56\n",
       "Name: count, dtype: int64"
      ]
     },
     "execution_count": 76,
     "metadata": {},
     "output_type": "execute_result"
    }
   ],
   "source": [
    "df['phys_health_consequence'].value_counts()"
   ]
  },
  {
   "cell_type": "code",
   "execution_count": 77,
   "id": "94e2c011",
   "metadata": {},
   "outputs": [
    {
     "data": {
      "text/plain": [
       "array(['Yes', 'No', 'Maybe'], dtype=object)"
      ]
     },
     "execution_count": 77,
     "metadata": {},
     "output_type": "execute_result"
    }
   ],
   "source": [
    "df['phys_health_interview'].unique()"
   ]
  },
  {
   "cell_type": "code",
   "execution_count": 78,
   "id": "f8f1b9ce",
   "metadata": {},
   "outputs": [],
   "source": [
    "df['phys_health_interview'] = df['phys_health_interview'].map({'No':0,'Yes':1,\"Maybe\":0})"
   ]
  },
  {
   "cell_type": "code",
   "execution_count": 79,
   "id": "dffcb46a",
   "metadata": {},
   "outputs": [
    {
     "data": {
      "text/plain": [
       "phys_health_interview\n",
       "0    825\n",
       "1    152\n",
       "Name: count, dtype: int64"
      ]
     },
     "execution_count": 79,
     "metadata": {},
     "output_type": "execute_result"
    }
   ],
   "source": [
    "df['phys_health_interview'].value_counts()"
   ]
  },
  {
   "cell_type": "code",
   "execution_count": 80,
   "id": "e1eb9047",
   "metadata": {},
   "outputs": [
    {
     "data": {
      "text/plain": [
       "array(['Yes', 'Some of them', 'No'], dtype=object)"
      ]
     },
     "execution_count": 80,
     "metadata": {},
     "output_type": "execute_result"
    }
   ],
   "source": [
    "df['coworkers'].unique()"
   ]
  },
  {
   "cell_type": "code",
   "execution_count": 81,
   "id": "6fc50d2a",
   "metadata": {},
   "outputs": [],
   "source": [
    "df['coworkers']= df['coworkers'].map({'Some of them':1,'No':0,'Yes':1})"
   ]
  },
  {
   "cell_type": "code",
   "execution_count": 82,
   "id": "fdf263b3",
   "metadata": {},
   "outputs": [
    {
     "name": "stdout",
     "output_type": "stream",
     "text": [
      "<class 'pandas.core.frame.DataFrame'>\n",
      "Index: 977 entries, 18 to 1258\n",
      "Data columns (total 24 columns):\n",
      " #   Column                     Non-Null Count  Dtype \n",
      "---  ------                     --------------  ----- \n",
      " 0   Age                        977 non-null    int64 \n",
      " 1   Gender                     977 non-null    int64 \n",
      " 2   Country                    977 non-null    int64 \n",
      " 3   self_employed              977 non-null    int64 \n",
      " 4   family_history             977 non-null    int64 \n",
      " 5   treatment                  977 non-null    int64 \n",
      " 6   work_interfere             977 non-null    int64 \n",
      " 7   no_employees               977 non-null    int64 \n",
      " 8   remote_work                977 non-null    int64 \n",
      " 9   tech_company               977 non-null    int64 \n",
      " 10  benefits                   977 non-null    int64 \n",
      " 11  care_options               977 non-null    int64 \n",
      " 12  wellness_program           977 non-null    int64 \n",
      " 13  seek_help                  977 non-null    int64 \n",
      " 14  anonymity                  977 non-null    int64 \n",
      " 15  leave                      977 non-null    int64 \n",
      " 16  mental_health_consequence  977 non-null    int64 \n",
      " 17  phys_health_consequence    977 non-null    int64 \n",
      " 18  coworkers                  977 non-null    int64 \n",
      " 19  supervisor                 977 non-null    int64 \n",
      " 20  mental_health_interview    977 non-null    int64 \n",
      " 21  phys_health_interview      977 non-null    int64 \n",
      " 22  mental_vs_physical         977 non-null    int64 \n",
      " 23  obs_consequence            977 non-null    object\n",
      "dtypes: int64(23), object(1)\n",
      "memory usage: 190.8+ KB\n"
     ]
    }
   ],
   "source": [
    "df.info()"
   ]
  },
  {
   "cell_type": "code",
   "execution_count": 83,
   "id": "8c98c72b",
   "metadata": {},
   "outputs": [
    {
     "name": "stdout",
     "output_type": "stream",
     "text": [
      "Unique values in 'obs_consequence': ['Yes' 'No']\n"
     ]
    }
   ],
   "source": [
    "for col in df.select_dtypes(include=['object']).columns:\n",
    "    print(f\"Unique values in '{col}': {df[col].unique()}\")"
   ]
  },
  {
   "cell_type": "code",
   "execution_count": 84,
   "id": "2537fc91",
   "metadata": {},
   "outputs": [
    {
     "data": {
      "text/plain": [
       "array(['Yes', 'No'], dtype=object)"
      ]
     },
     "execution_count": 84,
     "metadata": {},
     "output_type": "execute_result"
    }
   ],
   "source": [
    "df['obs_consequence'].unique()"
   ]
  },
  {
   "cell_type": "code",
   "execution_count": 85,
   "id": "7e845596",
   "metadata": {},
   "outputs": [],
   "source": [
    "df['obs_consequence']= df['obs_consequence'].map({'No':0,'Yes':1,\"Maybe\":0})"
   ]
  },
  {
   "cell_type": "code",
   "execution_count": 86,
   "id": "f08da834",
   "metadata": {},
   "outputs": [
    {
     "name": "stdout",
     "output_type": "stream",
     "text": [
      "<class 'pandas.core.frame.DataFrame'>\n",
      "Index: 977 entries, 18 to 1258\n",
      "Data columns (total 24 columns):\n",
      " #   Column                     Non-Null Count  Dtype\n",
      "---  ------                     --------------  -----\n",
      " 0   Age                        977 non-null    int64\n",
      " 1   Gender                     977 non-null    int64\n",
      " 2   Country                    977 non-null    int64\n",
      " 3   self_employed              977 non-null    int64\n",
      " 4   family_history             977 non-null    int64\n",
      " 5   treatment                  977 non-null    int64\n",
      " 6   work_interfere             977 non-null    int64\n",
      " 7   no_employees               977 non-null    int64\n",
      " 8   remote_work                977 non-null    int64\n",
      " 9   tech_company               977 non-null    int64\n",
      " 10  benefits                   977 non-null    int64\n",
      " 11  care_options               977 non-null    int64\n",
      " 12  wellness_program           977 non-null    int64\n",
      " 13  seek_help                  977 non-null    int64\n",
      " 14  anonymity                  977 non-null    int64\n",
      " 15  leave                      977 non-null    int64\n",
      " 16  mental_health_consequence  977 non-null    int64\n",
      " 17  phys_health_consequence    977 non-null    int64\n",
      " 18  coworkers                  977 non-null    int64\n",
      " 19  supervisor                 977 non-null    int64\n",
      " 20  mental_health_interview    977 non-null    int64\n",
      " 21  phys_health_interview      977 non-null    int64\n",
      " 22  mental_vs_physical         977 non-null    int64\n",
      " 23  obs_consequence            977 non-null    int64\n",
      "dtypes: int64(24)\n",
      "memory usage: 190.8 KB\n"
     ]
    }
   ],
   "source": [
    "df.info()"
   ]
  },
  {
   "cell_type": "code",
   "execution_count": 87,
   "id": "1c9324c6",
   "metadata": {},
   "outputs": [
    {
     "data": {
      "text/plain": [
       "(977, 24)"
      ]
     },
     "execution_count": 87,
     "metadata": {},
     "output_type": "execute_result"
    }
   ],
   "source": [
    "df.shape"
   ]
  },
  {
   "cell_type": "code",
   "execution_count": 88,
   "id": "7b3fb23a",
   "metadata": {},
   "outputs": [],
   "source": [
    "df.dropna(inplace=True)"
   ]
  },
  {
   "cell_type": "code",
   "execution_count": 89,
   "id": "9c32e30a",
   "metadata": {},
   "outputs": [
    {
     "data": {
      "text/plain": [
       "(977, 24)"
      ]
     },
     "execution_count": 89,
     "metadata": {},
     "output_type": "execute_result"
    }
   ],
   "source": [
    "df.shape"
   ]
  },
  {
   "cell_type": "code",
   "execution_count": 90,
   "id": "fef970e5",
   "metadata": {},
   "outputs": [
    {
     "name": "stdout",
     "output_type": "stream",
     "text": [
      "Missing values after handling:\n"
     ]
    },
    {
     "data": {
      "text/plain": [
       "Series([], dtype: int64)"
      ]
     },
     "metadata": {},
     "output_type": "display_data"
    }
   ],
   "source": [
    "# Verify that missing values have been handled\n",
    "print(\"Missing values after handling:\")\n",
    "display(df.isnull().sum()[df.isnull().sum() > 0])"
   ]
  },
  {
   "cell_type": "code",
   "execution_count": 91,
   "id": "45838d5b",
   "metadata": {},
   "outputs": [
    {
     "name": "stdout",
     "output_type": "stream",
     "text": [
      "Processed data saved to 'cleaned_data.csv'\n"
     ]
    }
   ],
   "source": [
    "cleaned_df = df.copy()\n",
    "cleaned_df.to_csv(r'C:\\Users\\HP\\PW skills\\SELF placed\\Machine Learning\\projects\\Mini Hackathon!\\data\\processed\\cleaned_data.csv',index=False)\n",
    "print(\"Processed data saved to 'cleaned_data.csv'\")"
   ]
  },
  {
   "cell_type": "code",
   "execution_count": null,
   "id": "398bf37e",
   "metadata": {},
   "outputs": [],
   "source": []
  }
 ],
 "metadata": {
  "kernelspec": {
   "display_name": "Python 3",
   "language": "python",
   "name": "python3"
  },
  "language_info": {
   "codemirror_mode": {
    "name": "ipython",
    "version": 3
   },
   "file_extension": ".py",
   "mimetype": "text/x-python",
   "name": "python",
   "nbconvert_exporter": "python",
   "pygments_lexer": "ipython3",
   "version": "3.12.4"
  }
 },
 "nbformat": 4,
 "nbformat_minor": 5
}
